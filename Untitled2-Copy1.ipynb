{
 "cells": [
  {
   "cell_type": "code",
   "execution_count": 7,
   "id": "d736de75-c2a0-4f36-8656-ed82515ceff4",
   "metadata": {},
   "outputs": [
    {
     "name": "stdout",
     "output_type": "stream",
     "text": [
      "Requirement already satisfied: elasticsearch in /opt/conda/lib/python3.12/site-packages (8.17.2)\n",
      "Requirement already satisfied: elastic-transport<9,>=8.15.1 in /opt/conda/lib/python3.12/site-packages (from elasticsearch) (8.17.1)\n",
      "Requirement already satisfied: urllib3<3,>=1.26.2 in /opt/conda/lib/python3.12/site-packages (from elastic-transport<9,>=8.15.1->elasticsearch) (2.3.0)\n",
      "Requirement already satisfied: certifi in /opt/conda/lib/python3.12/site-packages (from elastic-transport<9,>=8.15.1->elasticsearch) (2025.1.31)\n",
      "Note: you may need to restart the kernel to use updated packages.\n"
     ]
    }
   ],
   "source": [
    "pip install elasticsearch"
   ]
  },
  {
   "cell_type": "code",
   "execution_count": 8,
   "id": "5a2e788b-2163-4821-8847-64c32bc65c95",
   "metadata": {
    "scrolled": true
   },
   "outputs": [
    {
     "name": "stderr",
     "output_type": "stream",
     "text": [
      "/tmp/ipykernel_2669/3534919006.py:11: ElasticsearchWarning: Elasticsearch built-in security features are not enabled. Without authentication, your cluster could be accessible to anyone. See https://www.elastic.co/guide/en/elasticsearch/reference/7.17/security-minimal-setup.html to enable security.\n",
      "  if not es.indices.exists(index=index_name):\n",
      "/tmp/ipykernel_2669/3534919006.py:21: ElasticsearchWarning: Elasticsearch built-in security features are not enabled. Without authentication, your cluster could be accessible to anyone. See https://www.elastic.co/guide/en/elasticsearch/reference/7.17/security-minimal-setup.html to enable security.\n",
      "  response = es.index(index=index_name, id=i+1, document=email)\n"
     ]
    },
    {
     "name": "stdout",
     "output_type": "stream",
     "text": [
      "Document indexed with ID: 1\n",
      "Document indexed with ID: 2\n",
      "Document indexed with ID: 3\n",
      "Document indexed with ID: 4\n",
      "Document indexed with ID: 5\n",
      "Document indexed with ID: 6\n",
      "Document indexed with ID: 7\n",
      "Document indexed with ID: 8\n",
      "Document indexed with ID: 9\n",
      "Document indexed with ID: 10\n",
      "Document indexed with ID: 11\n",
      "Document indexed with ID: 12\n",
      "Document indexed with ID: 13\n",
      "Document indexed with ID: 14\n",
      "Document indexed with ID: 15\n",
      "Document indexed with ID: 16\n",
      "Document indexed with ID: 17\n",
      "Document indexed with ID: 18\n",
      "Document indexed with ID: 19\n",
      "Document indexed with ID: 20\n",
      "Document indexed with ID: 21\n",
      "Document indexed with ID: 22\n",
      "Document indexed with ID: 23\n",
      "Document indexed with ID: 24\n",
      "Document indexed with ID: 25\n",
      "Document indexed with ID: 26\n",
      "Document indexed with ID: 27\n",
      "Document indexed with ID: 28\n",
      "Document indexed with ID: 29\n",
      "Document indexed with ID: 30\n",
      "Document indexed with ID: 31\n",
      "Document indexed with ID: 32\n",
      "Document indexed with ID: 33\n",
      "Document indexed with ID: 34\n",
      "Document indexed with ID: 35\n",
      "Document indexed with ID: 36\n",
      "Document indexed with ID: 37\n",
      "Document indexed with ID: 38\n",
      "Document indexed with ID: 39\n",
      "Document indexed with ID: 40\n"
     ]
    }
   ],
   "source": [
    "from elasticsearch import Elasticsearch\n",
    "import json\n",
    "\n",
    "# Connect to Elasticsearch\n",
    "es = Elasticsearch([{'host': 'localhost', 'port': 9200, 'scheme': 'http'}])\n",
    "\n",
    "# Specify the index name\n",
    "index_name = \"emails\"\n",
    "\n",
    "# Check if the index exists, create it if not\n",
    "if not es.indices.exists(index=index_name):\n",
    "    es.indices.create(index=index_name)\n",
    "    print(f\"Index '{index_name}' created.\")\n",
    "\n",
    "# Load the emails from the JSON file (or use the `emails` list from the previous step)\n",
    "with open('emails.json', 'r', encoding='utf-8') as f:\n",
    "    emails = json.load(f)\n",
    "\n",
    "# Index each email into Elasticsearch\n",
    "for i, email in enumerate(emails):\n",
    "    response = es.index(index=index_name, id=i+1, document=email)\n",
    "    print(f\"Document indexed with ID: {i+1}\")\n"
   ]
  },
  {
   "cell_type": "code",
   "execution_count": 9,
   "id": "2b2ef0d4-9ea4-41cb-91f1-456a8eca30df",
   "metadata": {
    "scrolled": true
   },
   "outputs": [
    {
     "name": "stdout",
     "output_type": "stream",
     "text": [
      "{'from': 'Antoine Richard <a.richard@musee-calvet.org>', 'to': 'Marie Durand <marie.durand@archives-vaucluse.fr>', 'subject': '=?utf-8?q?M=C3=A9diation_num=C3=A9rique?= - Nouveau projet', 'date': 'Fri, 01 Dec 2023 00:00:00 -0000', 'body': 'Bonjour,\\n\\nDans le cadre de la pr=C3=A9paration de l\\'exposition \"R=C3=A9volution et Empi=\\nre en Vaucluse\" pr=C3=A9vue pour February 2024, pouvez-vous me confirmer la l=\\niste des documents que vous souhaitez pr=C3=A9senter?\\n\\nNous devons finaliser la sc=C3=A9nographie avec le graphiste d\\'ici deux semai=\\nnes.\\n'}\n",
      "{'from': 'Antoine Richard <a.richard@musee-calvet.org>', 'to': 'Marie Durand <marie.durand@archives-vaucluse.fr>', 'subject': 'Budget =?utf-8?q?pr=C3=A9visionnel_2024_-_Pr=C3=A9paration?=', 'date': 'Fri, 27 Jan 2023 00:00:00 -0000', 'body': \"Bonjour Marie,\\n\\nSuite =C3=A0 notre =C3=A9change, pourriez-vous me transmettre votre contribut=\\nion au rapport d'activit=C3=A9 2022 concernant les projets men=C3=A9s par vot=\\nre service?\\n\\nJ'aurais besoin de ces =C3=A9l=C3=A9ments avant le 03/02/2023 pour finaliser =\\nle document.\\n\\nMerci par avance.\\n\"}\n",
      "{'from': 'Pierre Dupont <pierre.dupont@mairie-avignon.fr>', 'to': 'Marie Durand <marie.durand@archives-vaucluse.fr>', 'subject': '=?utf-8?q?Probl=C3=A8me_d=27impression_-_Service_num=C3=A9risation?=', 'date': 'Fri, 29 Sep 2023 00:00:00 -0000', 'body': \"Bonjour,\\n\\nNous rencontrons actuellement un probl=C3=A8me d'acc=C3=A8s au serveur de fic=\\nhiers. Le service informatique a =C3=A9t=C3=A9 alert=C3=A9 et travaille =C3=\\n=A0 la r=C3=A9solution du probl=C3=A8me.\\n\\nEn attendant, veuillez sauvegarder vos documents localement et =C3=A9viter de=\\n lancer des op=C3=A9rations importantes sur le r=C3=A9seau.\\n\"}\n",
      "{'from': 'Marie Durand <marie.durand@archives-vaucluse.fr>', 'to': 'Sylvie Petit <s.petit@region-sud.fr>', 'subject': '=?utf-8?q?Probl=C3=A8me_d=27acc=C3=A8s?= au serveur - Urgence', 'date': 'Mon, 28 Aug 2023 00:00:00 -0000', 'body': \"Bonjour Sylvie,\\n\\nSuite =C3=A0 l'incident syst=C3=A8me survenu hier, les sauvegardes ont =C3=A9=\\nt=C3=A9 restaur=C3=A9es avec succ=C3=A8s. Les fichiers sont =C3=A0 nouveau ac=\\ncessibles.\\n\\nMerci de v=C3=A9rifier que vous retrouvez bien tous vos documents et de me si=\\ngnaler toute anomalie.\\n\\n\\nCordialement,\\nMarie Durand\\nConservateur en chef\\nArchives d=C3=A9partementales du Vaucluse\\nT=C3=A9l: 04.90.86.16.18\\n\"}\n",
      "{'from': 'Marc Lambert <m.lambert@education.gouv.fr>', 'to': 'Marie Durand <marie.durand@archives-vaucluse.fr>', 'subject': 'Restauration des registres paroissiaux - Suivi', 'date': 'Sat, 29 Apr 2023 00:00:00 -0000', 'body': 'Bonjour,\\n\\nDans le cadre de la pr=C3=A9paration de l\\'exposition \"La vie quotidienne en P=\\nrovence\" pr=C3=A9vue pour July 2023, pouvez-vous me confirmer la liste des do=\\ncuments que vous souhaitez pr=C3=A9senter?\\n\\nNous devons finaliser la sc=C3=A9nographie avec le graphiste d\\'ici deux semai=\\nnes.\\n'}\n",
      "{'from': 'Marie Durand <marie.durand@archives-vaucluse.fr>', 'to': 'Paul Mercier <p.mercier@siaf.culture.gouv.fr>', 'subject': 'Demande de devis - Prestation de =?utf-8?q?num=C3=A9risation?=', 'date': 'Sun, 02 Apr 2023 00:00:00 -0000', 'body': \"Cher(e) Paul Mercier,\\n\\nJ'ai le plaisir de vous informer que la restauration des registres paroissiau=\\nx de la commune de Apt est maintenant termin=C3=A9e. Les documents sont =C3=\\n=A0 nouveau disponibles pour consultation.\\n\\nUn rapport d=C3=A9taill=C3=A9 de l'intervention a =C3=A9t=C3=A9 d=C3=A9pos=C3=\\n=A9 sur le serveur commun.\\n\\n\\nCordialement,\\nMarie Durand\\nConservateur en chef\\nArchives d=C3=A9partementales du Vaucluse\\nT=C3=A9l: 04.90.86.16.18\\n\"}\n",
      "{'from': 'Marie Durand <marie.durand@archives-vaucluse.fr>', 'to': 'Jeanne Moreau <j.moreau@departement84.fr>', 'subject': '=?utf-8?q?R=C3=A9union?= de service - 17/12/2023', 'date': 'Sun, 17 Dec 2023 00:00:00 -0000', 'body': \"Cher(e) coll=C3=A8gue,\\n\\nVeuillez trouver ci-joint l'ordre du jour du prochain comit=C3=A9 technique p=\\nr=C3=A9vu le 27/12/2023.\\n\\nJe vous rappelle que les documents pr=C3=A9paratoires doivent =C3=AAtre trans=\\nmis au plus tard 3 jours avant la r=C3=A9union.\\n\\n\\nCordialement,\\nMarie Durand\\nConservateur en chef\\nArchives d=C3=A9partementales du Vaucluse\\nT=C3=A9l: 04.90.86.16.18\\n\"}\n",
      "{'from': 'Jeanne Moreau <j.moreau@departement84.fr>', 'to': 'Marie Durand <marie.durand@archives-vaucluse.fr>', 'subject': 'Rapport =?utf-8?q?d=27activit=C3=A9?= 2022 - Demande de contribution', 'date': 'Thu, 23 Mar 2023 00:00:00 -0000', 'body': \"Bonjour Marie,\\n\\nJe vous informe qu'une r=C3=A9union de service aura lieu le 30/03/2023 =C3=A0=\\n 10h00 dans la salle de conf=C3=A9rence.=20\\n\\nL'ordre du jour portera sur:\\n- Bilan des activit=C3=A9s du trimestre\\n- Projets en cours et =C3=A0 venir\\n- Questions diverses\\n\\nMerci de confirmer votre pr=C3=A9sence.\\n\"}\n",
      "{'from': 'Marie Durand <marie.durand@archives-vaucluse.fr>', 'to': 'Pierre Dupont <pierre.dupont@mairie-avignon.fr>', 'subject': '=?utf-8?q?R=C3=A9union?= de service - 21/11/2023', 'date': 'Tue, 21 Nov 2023 00:00:00 -0000', 'body': \"Cher(e) coll=C3=A8gue,\\n\\nVeuillez trouver ci-joint l'ordre du jour du prochain comit=C3=A9 technique p=\\nr=C3=A9vu le 01/12/2023.\\n\\nJe vous rappelle que les documents pr=C3=A9paratoires doivent =C3=AAtre trans=\\nmis au plus tard 3 jours avant la r=C3=A9union.\\n\\n\\nCordialement,\\nMarie Durand\\nConservateur en chef\\nArchives d=C3=A9partementales du Vaucluse\\nT=C3=A9l: 04.90.86.16.18\\n\"}\n",
      "{'from': 'Marie Durand <marie.durand@archives-vaucluse.fr>', 'to': 'Christine Fabre <c.fabre@bibliotheque.avignon.fr>', 'subject': 'Note de service: =?utf-8?q?Proc=C3=A9dures_d=27archivage_=C3=A9lectronique?=', 'date': 'Tue, 25 Jul 2023 00:00:00 -0000', 'body': 'Bonjour =C3=A0 tous,\\n\\nAfin de planifier au mieux les effectifs pour la p=C3=A9riode estivale, merci=\\n de communiquer vos souhaits de cong=C3=A9s d\\'=C3=A9t=C3=A9 d\\'ici le 08/08/20=\\n23.\\n\\nUn tableau partag=C3=A9 a =C3=A9t=C3=A9 cr=C3=A9=C3=A9 sur le serveur commun =\\ndans le dossier \"RH/Cong=C3=A9s/2023\".\\n\\n\\nCordialement,\\nMarie Durand\\nConservateur en chef\\nArchives d=C3=A9partementales du Vaucluse\\nT=C3=A9l: 04.90.86.16.18\\n'}\n"
     ]
    },
    {
     "name": "stderr",
     "output_type": "stream",
     "text": [
      "/tmp/ipykernel_2669/4051611629.py:2: ElasticsearchWarning: Elasticsearch built-in security features are not enabled. Without authentication, your cluster could be accessible to anyone. See https://www.elastic.co/guide/en/elasticsearch/reference/7.17/security-minimal-setup.html to enable security.\n",
      "  response = es.search(index=index_name, body={\"query\": {\"match_all\": {}}})\n"
     ]
    }
   ],
   "source": [
    "# Search for all emails\n",
    "response = es.search(index=index_name, body={\"query\": {\"match_all\": {}}})\n",
    "for hit in response['hits']['hits']:\n",
    "    print(hit['_source'])\n"
   ]
  },
  {
   "cell_type": "code",
   "execution_count": 4,
   "id": "9bc98a5a-a303-492b-8a7b-df0e602b92b3",
   "metadata": {
    "scrolled": true
   },
   "outputs": [
    {
     "ename": "BadRequestError",
     "evalue": "BadRequestError(400, 'resource_already_exists_exception', 'index [emails/WK9JMTipTxG8si95J_8Ghw] already exists')",
     "output_type": "error",
     "traceback": [
      "\u001b[31m---------------------------------------------------------------------------\u001b[39m",
      "\u001b[31mBadRequestError\u001b[39m                           Traceback (most recent call last)",
      "\u001b[36mCell\u001b[39m\u001b[36m \u001b[39m\u001b[32mIn[4]\u001b[39m\u001b[32m, line 12\u001b[39m\n\u001b[32m      1\u001b[39m mapping = {\n\u001b[32m      2\u001b[39m     \u001b[33m\"\u001b[39m\u001b[33mproperties\u001b[39m\u001b[33m\"\u001b[39m: {\n\u001b[32m      3\u001b[39m         \u001b[33m\"\u001b[39m\u001b[33mfrom\u001b[39m\u001b[33m\"\u001b[39m: {\u001b[33m\"\u001b[39m\u001b[33mtype\u001b[39m\u001b[33m\"\u001b[39m: \u001b[33m\"\u001b[39m\u001b[33mkeyword\u001b[39m\u001b[33m\"\u001b[39m},\n\u001b[32m   (...)\u001b[39m\u001b[32m      8\u001b[39m     }\n\u001b[32m      9\u001b[39m }\n\u001b[32m     11\u001b[39m \u001b[38;5;66;03m# Create index with mapping\u001b[39;00m\n\u001b[32m---> \u001b[39m\u001b[32m12\u001b[39m \u001b[43mes\u001b[49m\u001b[43m.\u001b[49m\u001b[43mindices\u001b[49m\u001b[43m.\u001b[49m\u001b[43mcreate\u001b[49m\u001b[43m(\u001b[49m\u001b[43mindex\u001b[49m\u001b[43m=\u001b[49m\u001b[43mindex_name\u001b[49m\u001b[43m,\u001b[49m\u001b[43m \u001b[49m\u001b[43mbody\u001b[49m\u001b[43m=\u001b[49m\u001b[43m{\u001b[49m\u001b[33;43m\"\u001b[39;49m\u001b[33;43mmappings\u001b[39;49m\u001b[33;43m\"\u001b[39;49m\u001b[43m:\u001b[49m\u001b[43m \u001b[49m\u001b[43mmapping\u001b[49m\u001b[43m}\u001b[49m\u001b[43m)\u001b[49m\n",
      "\u001b[36mFile \u001b[39m\u001b[32m/opt/conda/lib/python3.12/site-packages/elasticsearch/_sync/client/utils.py:455\u001b[39m, in \u001b[36m_rewrite_parameters.<locals>.wrapper.<locals>.wrapped\u001b[39m\u001b[34m(*args, **kwargs)\u001b[39m\n\u001b[32m    452\u001b[39m         \u001b[38;5;28;01mexcept\u001b[39;00m \u001b[38;5;167;01mKeyError\u001b[39;00m:\n\u001b[32m    453\u001b[39m             \u001b[38;5;28;01mpass\u001b[39;00m\n\u001b[32m--> \u001b[39m\u001b[32m455\u001b[39m \u001b[38;5;28;01mreturn\u001b[39;00m \u001b[43mapi\u001b[49m\u001b[43m(\u001b[49m\u001b[43m*\u001b[49m\u001b[43margs\u001b[49m\u001b[43m,\u001b[49m\u001b[43m \u001b[49m\u001b[43m*\u001b[49m\u001b[43m*\u001b[49m\u001b[43mkwargs\u001b[49m\u001b[43m)\u001b[49m\n",
      "\u001b[36mFile \u001b[39m\u001b[32m/opt/conda/lib/python3.12/site-packages/elasticsearch/_sync/client/indices.py:643\u001b[39m, in \u001b[36mIndicesClient.create\u001b[39m\u001b[34m(self, index, aliases, error_trace, filter_path, human, mappings, master_timeout, pretty, settings, timeout, wait_for_active_shards, body)\u001b[39m\n\u001b[32m    641\u001b[39m \u001b[38;5;28;01mif\u001b[39;00m __body \u001b[38;5;129;01mis\u001b[39;00m \u001b[38;5;129;01mnot\u001b[39;00m \u001b[38;5;28;01mNone\u001b[39;00m:\n\u001b[32m    642\u001b[39m     __headers[\u001b[33m\"\u001b[39m\u001b[33mcontent-type\u001b[39m\u001b[33m\"\u001b[39m] = \u001b[33m\"\u001b[39m\u001b[33mapplication/json\u001b[39m\u001b[33m\"\u001b[39m\n\u001b[32m--> \u001b[39m\u001b[32m643\u001b[39m \u001b[38;5;28;01mreturn\u001b[39;00m \u001b[38;5;28;43mself\u001b[39;49m\u001b[43m.\u001b[49m\u001b[43mperform_request\u001b[49m\u001b[43m(\u001b[49m\u001b[43m  \u001b[49m\u001b[38;5;66;43;03m# type: ignore[return-value]\u001b[39;49;00m\n\u001b[32m    644\u001b[39m \u001b[43m    \u001b[49m\u001b[33;43m\"\u001b[39;49m\u001b[33;43mPUT\u001b[39;49m\u001b[33;43m\"\u001b[39;49m\u001b[43m,\u001b[49m\n\u001b[32m    645\u001b[39m \u001b[43m    \u001b[49m\u001b[43m__path\u001b[49m\u001b[43m,\u001b[49m\n\u001b[32m    646\u001b[39m \u001b[43m    \u001b[49m\u001b[43mparams\u001b[49m\u001b[43m=\u001b[49m\u001b[43m__query\u001b[49m\u001b[43m,\u001b[49m\n\u001b[32m    647\u001b[39m \u001b[43m    \u001b[49m\u001b[43mheaders\u001b[49m\u001b[43m=\u001b[49m\u001b[43m__headers\u001b[49m\u001b[43m,\u001b[49m\n\u001b[32m    648\u001b[39m \u001b[43m    \u001b[49m\u001b[43mbody\u001b[49m\u001b[43m=\u001b[49m\u001b[43m__body\u001b[49m\u001b[43m,\u001b[49m\n\u001b[32m    649\u001b[39m \u001b[43m    \u001b[49m\u001b[43mendpoint_id\u001b[49m\u001b[43m=\u001b[49m\u001b[33;43m\"\u001b[39;49m\u001b[33;43mindices.create\u001b[39;49m\u001b[33;43m\"\u001b[39;49m\u001b[43m,\u001b[49m\n\u001b[32m    650\u001b[39m \u001b[43m    \u001b[49m\u001b[43mpath_parts\u001b[49m\u001b[43m=\u001b[49m\u001b[43m__path_parts\u001b[49m\u001b[43m,\u001b[49m\n\u001b[32m    651\u001b[39m \u001b[43m\u001b[49m\u001b[43m)\u001b[49m\n",
      "\u001b[36mFile \u001b[39m\u001b[32m/opt/conda/lib/python3.12/site-packages/elasticsearch/_sync/client/_base.py:423\u001b[39m, in \u001b[36mNamespacedClient.perform_request\u001b[39m\u001b[34m(self, method, path, params, headers, body, endpoint_id, path_parts)\u001b[39m\n\u001b[32m    410\u001b[39m \u001b[38;5;28;01mdef\u001b[39;00m\u001b[38;5;250m \u001b[39m\u001b[34mperform_request\u001b[39m(\n\u001b[32m    411\u001b[39m     \u001b[38;5;28mself\u001b[39m,\n\u001b[32m    412\u001b[39m     method: \u001b[38;5;28mstr\u001b[39m,\n\u001b[32m   (...)\u001b[39m\u001b[32m    421\u001b[39m     \u001b[38;5;66;03m# Use the internal clients .perform_request() implementation\u001b[39;00m\n\u001b[32m    422\u001b[39m     \u001b[38;5;66;03m# so we take advantage of their transport options.\u001b[39;00m\n\u001b[32m--> \u001b[39m\u001b[32m423\u001b[39m     \u001b[38;5;28;01mreturn\u001b[39;00m \u001b[38;5;28;43mself\u001b[39;49m\u001b[43m.\u001b[49m\u001b[43m_client\u001b[49m\u001b[43m.\u001b[49m\u001b[43mperform_request\u001b[49m\u001b[43m(\u001b[49m\n\u001b[32m    424\u001b[39m \u001b[43m        \u001b[49m\u001b[43mmethod\u001b[49m\u001b[43m,\u001b[49m\n\u001b[32m    425\u001b[39m \u001b[43m        \u001b[49m\u001b[43mpath\u001b[49m\u001b[43m,\u001b[49m\n\u001b[32m    426\u001b[39m \u001b[43m        \u001b[49m\u001b[43mparams\u001b[49m\u001b[43m=\u001b[49m\u001b[43mparams\u001b[49m\u001b[43m,\u001b[49m\n\u001b[32m    427\u001b[39m \u001b[43m        \u001b[49m\u001b[43mheaders\u001b[49m\u001b[43m=\u001b[49m\u001b[43mheaders\u001b[49m\u001b[43m,\u001b[49m\n\u001b[32m    428\u001b[39m \u001b[43m        \u001b[49m\u001b[43mbody\u001b[49m\u001b[43m=\u001b[49m\u001b[43mbody\u001b[49m\u001b[43m,\u001b[49m\n\u001b[32m    429\u001b[39m \u001b[43m        \u001b[49m\u001b[43mendpoint_id\u001b[49m\u001b[43m=\u001b[49m\u001b[43mendpoint_id\u001b[49m\u001b[43m,\u001b[49m\n\u001b[32m    430\u001b[39m \u001b[43m        \u001b[49m\u001b[43mpath_parts\u001b[49m\u001b[43m=\u001b[49m\u001b[43mpath_parts\u001b[49m\u001b[43m,\u001b[49m\n\u001b[32m    431\u001b[39m \u001b[43m    \u001b[49m\u001b[43m)\u001b[49m\n",
      "\u001b[36mFile \u001b[39m\u001b[32m/opt/conda/lib/python3.12/site-packages/elasticsearch/_sync/client/_base.py:271\u001b[39m, in \u001b[36mBaseClient.perform_request\u001b[39m\u001b[34m(self, method, path, params, headers, body, endpoint_id, path_parts)\u001b[39m\n\u001b[32m    255\u001b[39m \u001b[38;5;28;01mdef\u001b[39;00m\u001b[38;5;250m \u001b[39m\u001b[34mperform_request\u001b[39m(\n\u001b[32m    256\u001b[39m     \u001b[38;5;28mself\u001b[39m,\n\u001b[32m    257\u001b[39m     method: \u001b[38;5;28mstr\u001b[39m,\n\u001b[32m   (...)\u001b[39m\u001b[32m    264\u001b[39m     path_parts: Optional[Mapping[\u001b[38;5;28mstr\u001b[39m, Any]] = \u001b[38;5;28;01mNone\u001b[39;00m,\n\u001b[32m    265\u001b[39m ) -> ApiResponse[Any]:\n\u001b[32m    266\u001b[39m     \u001b[38;5;28;01mwith\u001b[39;00m \u001b[38;5;28mself\u001b[39m._otel.span(\n\u001b[32m    267\u001b[39m         method,\n\u001b[32m    268\u001b[39m         endpoint_id=endpoint_id,\n\u001b[32m    269\u001b[39m         path_parts=path_parts \u001b[38;5;129;01mor\u001b[39;00m {},\n\u001b[32m    270\u001b[39m     ) \u001b[38;5;28;01mas\u001b[39;00m otel_span:\n\u001b[32m--> \u001b[39m\u001b[32m271\u001b[39m         response = \u001b[38;5;28;43mself\u001b[39;49m\u001b[43m.\u001b[49m\u001b[43m_perform_request\u001b[49m\u001b[43m(\u001b[49m\n\u001b[32m    272\u001b[39m \u001b[43m            \u001b[49m\u001b[43mmethod\u001b[49m\u001b[43m,\u001b[49m\n\u001b[32m    273\u001b[39m \u001b[43m            \u001b[49m\u001b[43mpath\u001b[49m\u001b[43m,\u001b[49m\n\u001b[32m    274\u001b[39m \u001b[43m            \u001b[49m\u001b[43mparams\u001b[49m\u001b[43m=\u001b[49m\u001b[43mparams\u001b[49m\u001b[43m,\u001b[49m\n\u001b[32m    275\u001b[39m \u001b[43m            \u001b[49m\u001b[43mheaders\u001b[49m\u001b[43m=\u001b[49m\u001b[43mheaders\u001b[49m\u001b[43m,\u001b[49m\n\u001b[32m    276\u001b[39m \u001b[43m            \u001b[49m\u001b[43mbody\u001b[49m\u001b[43m=\u001b[49m\u001b[43mbody\u001b[49m\u001b[43m,\u001b[49m\n\u001b[32m    277\u001b[39m \u001b[43m            \u001b[49m\u001b[43motel_span\u001b[49m\u001b[43m=\u001b[49m\u001b[43motel_span\u001b[49m\u001b[43m,\u001b[49m\n\u001b[32m    278\u001b[39m \u001b[43m        \u001b[49m\u001b[43m)\u001b[49m\n\u001b[32m    279\u001b[39m         otel_span.set_elastic_cloud_metadata(response.meta.headers)\n\u001b[32m    280\u001b[39m         \u001b[38;5;28;01mreturn\u001b[39;00m response\n",
      "\u001b[36mFile \u001b[39m\u001b[32m/opt/conda/lib/python3.12/site-packages/elasticsearch/_sync/client/_base.py:352\u001b[39m, in \u001b[36mBaseClient._perform_request\u001b[39m\u001b[34m(self, method, path, params, headers, body, otel_span)\u001b[39m\n\u001b[32m    349\u001b[39m         \u001b[38;5;28;01mexcept\u001b[39;00m (\u001b[38;5;167;01mValueError\u001b[39;00m, \u001b[38;5;167;01mKeyError\u001b[39;00m, \u001b[38;5;167;01mTypeError\u001b[39;00m):\n\u001b[32m    350\u001b[39m             \u001b[38;5;28;01mpass\u001b[39;00m\n\u001b[32m--> \u001b[39m\u001b[32m352\u001b[39m     \u001b[38;5;28;01mraise\u001b[39;00m HTTP_EXCEPTIONS.get(meta.status, ApiError)(\n\u001b[32m    353\u001b[39m         message=message, meta=meta, body=resp_body\n\u001b[32m    354\u001b[39m     )\n\u001b[32m    356\u001b[39m \u001b[38;5;66;03m# 'X-Elastic-Product: Elasticsearch' should be on every 2XX response.\u001b[39;00m\n\u001b[32m    357\u001b[39m \u001b[38;5;28;01mif\u001b[39;00m \u001b[38;5;129;01mnot\u001b[39;00m \u001b[38;5;28mself\u001b[39m._verified_elasticsearch:\n\u001b[32m    358\u001b[39m     \u001b[38;5;66;03m# If the header is set we mark the server as verified.\u001b[39;00m\n",
      "\u001b[31mBadRequestError\u001b[39m: BadRequestError(400, 'resource_already_exists_exception', 'index [emails/WK9JMTipTxG8si95J_8Ghw] already exists')"
     ]
    }
   ],
   "source": [
    "mapping = {\n",
    "    \"properties\": {\n",
    "        \"from\": {\"type\": \"keyword\"},\n",
    "        \"to\": {\"type\": \"keyword\"},\n",
    "        \"subject\": {\"type\": \"text\"},\n",
    "        \"date\": {\"type\": \"date\"},\n",
    "        \"body\": {\"type\": \"text\"}\n",
    "    }\n",
    "}\n",
    "\n",
    "# Create index with mapping\n",
    "es.indices.create(index=index_name, body={\"mappings\": mapping})\n"
   ]
  },
  {
   "cell_type": "code",
   "execution_count": 10,
   "id": "2cc5ed49-9d90-4a13-8676-3e1e83f3b3f1",
   "metadata": {},
   "outputs": [
    {
     "name": "stdout",
     "output_type": "stream",
     "text": [
      "Requirement already satisfied: ipywidgets in /opt/conda/lib/python3.12/site-packages (8.1.5)\n",
      "Requirement already satisfied: comm>=0.1.3 in /opt/conda/lib/python3.12/site-packages (from ipywidgets) (0.2.2)\n",
      "Requirement already satisfied: ipython>=6.1.0 in /opt/conda/lib/python3.12/site-packages (from ipywidgets) (9.0.2)\n",
      "Requirement already satisfied: traitlets>=4.3.1 in /opt/conda/lib/python3.12/site-packages (from ipywidgets) (5.14.3)\n",
      "Requirement already satisfied: widgetsnbextension~=4.0.12 in /opt/conda/lib/python3.12/site-packages (from ipywidgets) (4.0.13)\n",
      "Requirement already satisfied: jupyterlab-widgets~=3.0.12 in /opt/conda/lib/python3.12/site-packages (from ipywidgets) (3.0.13)\n",
      "Requirement already satisfied: decorator in /opt/conda/lib/python3.12/site-packages (from ipython>=6.1.0->ipywidgets) (5.2.1)\n",
      "Requirement already satisfied: ipython-pygments-lexers in /opt/conda/lib/python3.12/site-packages (from ipython>=6.1.0->ipywidgets) (1.1.1)\n",
      "Requirement already satisfied: jedi>=0.16 in /opt/conda/lib/python3.12/site-packages (from ipython>=6.1.0->ipywidgets) (0.19.2)\n",
      "Requirement already satisfied: matplotlib-inline in /opt/conda/lib/python3.12/site-packages (from ipython>=6.1.0->ipywidgets) (0.1.7)\n",
      "Requirement already satisfied: pexpect>4.3 in /opt/conda/lib/python3.12/site-packages (from ipython>=6.1.0->ipywidgets) (4.9.0)\n",
      "Requirement already satisfied: prompt_toolkit<3.1.0,>=3.0.41 in /opt/conda/lib/python3.12/site-packages (from ipython>=6.1.0->ipywidgets) (3.0.50)\n",
      "Requirement already satisfied: pygments>=2.4.0 in /opt/conda/lib/python3.12/site-packages (from ipython>=6.1.0->ipywidgets) (2.19.1)\n",
      "Requirement already satisfied: stack_data in /opt/conda/lib/python3.12/site-packages (from ipython>=6.1.0->ipywidgets) (0.6.3)\n",
      "Requirement already satisfied: parso<0.9.0,>=0.8.4 in /opt/conda/lib/python3.12/site-packages (from jedi>=0.16->ipython>=6.1.0->ipywidgets) (0.8.4)\n",
      "Requirement already satisfied: ptyprocess>=0.5 in /opt/conda/lib/python3.12/site-packages (from pexpect>4.3->ipython>=6.1.0->ipywidgets) (0.7.0)\n",
      "Requirement already satisfied: wcwidth in /opt/conda/lib/python3.12/site-packages (from prompt_toolkit<3.1.0,>=3.0.41->ipython>=6.1.0->ipywidgets) (0.2.13)\n",
      "Requirement already satisfied: executing>=1.2.0 in /opt/conda/lib/python3.12/site-packages (from stack_data->ipython>=6.1.0->ipywidgets) (2.1.0)\n",
      "Requirement already satisfied: asttokens>=2.1.0 in /opt/conda/lib/python3.12/site-packages (from stack_data->ipython>=6.1.0->ipywidgets) (3.0.0)\n",
      "Requirement already satisfied: pure_eval in /opt/conda/lib/python3.12/site-packages (from stack_data->ipython>=6.1.0->ipywidgets) (0.2.3)\n",
      "Note: you may need to restart the kernel to use updated packages.\n"
     ]
    }
   ],
   "source": [
    "pip install ipywidgets\n"
   ]
  },
  {
   "cell_type": "code",
   "execution_count": 21,
   "id": "278902c1-e38d-479f-a185-8d400941fc49",
   "metadata": {},
   "outputs": [],
   "source": [
    "from elasticsearch import Elasticsearch\n",
    "import ipywidgets as widgets\n",
    "from IPython.display import display\n",
    "\n",
    "# Connect to Elasticsearch\n",
    "es = Elasticsearch([{'host': 'localhost', 'port': 9200, 'scheme': 'http'}])\n",
    "\n",
    "# Function to search Elasticsearch based on the query entered\n",
    "def search_elasticsearch(query):\n",
    "    # Define the search query\n",
    "    search_query = {\n",
    "        \"query\": {\n",
    "            \"match\": {\n",
    "                \"body\": query  # Search the 'body' field of the emails\n",
    "            }\n",
    "        }\n",
    "    }\n",
    "\n",
    "    # Execute the search\n",
    "    search_response = es.search(index=\"emails\", body=search_query)\n",
    "\n",
    "    # Display the search results\n",
    "    print(f\"Search results for '{query}':\")\n",
    "    for hit in search_response['hits']['hits']:\n",
    "        print(f\"Subject: {hit['_source']['subject']}\")\n",
    "        print(f\"From: {hit['_source']['from']}\")\n",
    "        print(f\"Date: {hit['_source']['date']}\")\n",
    "        print(f\"To: {hit['_source']['to']}\")\n",
    "        print(f\"Body: {hit['_source']['body'][:200]}...\")  # Show first 200 characters of body\n",
    "        print(\"-\" * 80)\n",
    "\n",
    "\n",
    "# Function to search Elasticsearch based on the query entered\n",
    "def search_elasticsearch_multi(query):\n",
    "    # Define the search query with multi_match to search across multiple fields\n",
    "    search_query = {\n",
    "        \"query\": {\n",
    "            \"multi_match\": {\n",
    "                \"query\": query,  # The search term entered\n",
    "                \"fields\": [\"subject\", \"from\", \"body\", \"to\", \"date\"],  # Fields to search across\n",
    "                \"fuzziness\": \"AUTO\"  # Automatically calculate fuzziness based on the length of the word\n",
    "            }\n",
    "        }\n",
    "    }\n",
    "\n",
    "    # Execute the search\n",
    "    search_response = es.search(index=\"emails\", body=search_query)\n",
    "\n",
    "    # Display the search results\n",
    "    print(f\"Search results for '{query}':\")\n",
    "    for hit in search_response['hits']['hits']:\n",
    "        print(f\"Subject: {hit['_source']['subject']}\")\n",
    "        print(f\"From: {hit['_source']['from']}\")\n",
    "        print(f\"Date: {hit['_source']['date']}\")\n",
    "        print(f\"To: {hit['_source']['to']}\")\n",
    "        print(f\"Body: {hit['_source']['body'][:200]}...\")  # Show first 200 characters of body\n",
    "        print(\"-\" * 80)\n"
   ]
  },
  {
   "cell_type": "code",
   "execution_count": 22,
   "id": "cca9acb2-5d54-4e98-8dae-fd94e958d836",
   "metadata": {},
   "outputs": [],
   "source": [
    "# Create the text widget for input\n",
    "search_text = widgets.Text(\n",
    "    description='Search Query:',\n",
    "    placeholder='Enter search term...',\n",
    "    layout=widgets.Layout(width='50%')\n",
    ")"
   ]
  },
  {
   "cell_type": "code",
   "execution_count": 23,
   "id": "4036a741-f288-4dc3-a39f-07d4ea741679",
   "metadata": {},
   "outputs": [
    {
     "data": {
      "application/vnd.jupyter.widget-view+json": {
       "model_id": "be56c2a5cfbd4620a24351f5c94a15a4",
       "version_major": 2,
       "version_minor": 0
      },
      "text/plain": [
       "Text(value='', description='Search Query:', layout=Layout(width='50%'), placeholder='Enter search term...')"
      ]
     },
     "execution_count": 23,
     "metadata": {},
     "output_type": "execute_result"
    }
   ],
   "source": [
    "search_text"
   ]
  },
  {
   "cell_type": "code",
   "execution_count": 24,
   "id": "27266672-b3a8-4ee5-9464-2bacb040cc68",
   "metadata": {},
   "outputs": [
    {
     "data": {
      "application/vnd.jupyter.widget-view+json": {
       "model_id": "2e8d59469d104960b45ec9ef705f64c7",
       "version_major": 2,
       "version_minor": 0
      },
      "text/plain": [
       "interactive(children=(Text(value='lucie', description='Search Query:', layout=Layout(width='50%'), placeholder…"
      ]
     },
     "execution_count": 24,
     "metadata": {},
     "output_type": "execute_result"
    }
   ],
   "source": [
    "\n",
    "\n",
    "# Set up the interactivity\n",
    "widgets.interactive(search_elasticsearch_multi, query=search_text)"
   ]
  },
  {
   "cell_type": "code",
   "execution_count": 25,
   "id": "f381b793-5f38-4d24-9cc3-3d753eedab47",
   "metadata": {},
   "outputs": [
    {
     "data": {
      "application/vnd.jupyter.widget-view+json": {
       "model_id": "2d4f59c5e64e46c2bb9dbd9e47c7e61b",
       "version_major": 2,
       "version_minor": 0
      },
      "text/plain": [
       "interactive(children=(Text(value='lucie', description='Search Query:', layout=Layout(width='50%'), placeholder…"
      ]
     },
     "execution_count": 25,
     "metadata": {},
     "output_type": "execute_result"
    }
   ],
   "source": [
    "\n",
    "\n",
    "# Set up the interactivity\n",
    "widgets.interactive(search_elasticsearch, query=search_text)"
   ]
  },
  {
   "cell_type": "code",
   "execution_count": 12,
   "id": "c8f67b53-ee78-4556-9642-6e22a58ef6e1",
   "metadata": {},
   "outputs": [
    {
     "data": {
      "application/vnd.jupyter.widget-view+json": {
       "model_id": "2a85de81c17040ac9500818da7962e52",
       "version_major": 2,
       "version_minor": 0
      },
      "text/plain": [
       "Text(value='', description='Search Query:', layout=Layout(width='50%'), placeholder='Enter search term...')"
      ]
     },
     "metadata": {},
     "output_type": "display_data"
    },
    {
     "data": {
      "application/vnd.jupyter.widget-view+json": {
       "model_id": "a89adf168b3e4a0f93c83b986dcbea1a",
       "version_major": 2,
       "version_minor": 0
      },
      "text/plain": [
       "Button(description='Search', style=ButtonStyle())"
      ]
     },
     "metadata": {},
     "output_type": "display_data"
    },
    {
     "data": {
      "application/vnd.jupyter.widget-view+json": {
       "model_id": "249fa565ea434ee4aa96c52ce2eb0c5a",
       "version_major": 2,
       "version_minor": 0
      },
      "text/plain": [
       "Output()"
      ]
     },
     "metadata": {},
     "output_type": "display_data"
    }
   ],
   "source": [
    "search_button = widgets.Button(description=\"Search\")\n",
    "output = widgets.Output()\n",
    "\n",
    "def on_button_click(b):\n",
    "    with output:\n",
    "        search_elasticsearch(search_text.value)\n",
    "\n",
    "search_button.on_click(on_button_click)\n",
    "display(search_text, search_button, output)\n"
   ]
  },
  {
   "cell_type": "code",
   "execution_count": null,
   "id": "7215de7b-c759-4061-ac41-7a594f982492",
   "metadata": {},
   "outputs": [],
   "source": []
  }
 ],
 "metadata": {
  "kernelspec": {
   "display_name": "Python 3 (ipykernel)",
   "language": "python",
   "name": "python3"
  },
  "language_info": {
   "codemirror_mode": {
    "name": "ipython",
    "version": 3
   },
   "file_extension": ".py",
   "mimetype": "text/x-python",
   "name": "python",
   "nbconvert_exporter": "python",
   "pygments_lexer": "ipython3",
   "version": "3.12.9"
  }
 },
 "nbformat": 4,
 "nbformat_minor": 5
}
