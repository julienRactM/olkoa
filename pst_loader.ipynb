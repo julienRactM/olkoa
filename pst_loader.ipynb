{
 "cells": [
  {
   "cell_type": "code",
   "execution_count": null,
   "id": "1c8358a0",
   "metadata": {},
   "outputs": [],
   "source": []
  },
  {
   "cell_type": "code",
   "execution_count": null,
   "id": "70bda941",
   "metadata": {},
   "outputs": [],
   "source": [
    "from aspose.email.storage.pst import PersonalStorage\n",
    "\n",
    "# Load PST file\n",
    "personalStorage = PersonalStorage.from_file(\"Outlook.pst\")\n",
    "\n",
    "# Get folders' collection\n",
    "folderInfoCollection = personalStorage.root_folder.get_sub_folders()\n",
    "\n",
    "# Extract folders' information\n",
    "for folderInfo in folderInfoCollection:\n",
    "\tprint(\"Folder: \" + folderInfo.display_name)\n",
    "\tprint(\"Total Items: \" + str(folderInfo.content_count))\n",
    "\tprint(\"Total Unread Items: \" + str(folderInfo.content_unread_count))"
   ]
  },
  {
   "cell_type": "code",
   "execution_count": null,
   "id": "bb3ead07",
   "metadata": {},
   "outputs": [],
   "source": []
  },
  {
   "cell_type": "code",
   "execution_count": null,
   "id": "3247b3dd",
   "metadata": {},
   "outputs": [],
   "source": []
  },
  {
   "cell_type": "code",
   "execution_count": null,
   "id": "fc862c07",
   "metadata": {},
   "outputs": [],
   "source": []
  },
  {
   "cell_type": "code",
   "execution_count": null,
   "id": "759ef005",
   "metadata": {},
   "outputs": [],
   "source": []
  },
  {
   "cell_type": "code",
   "execution_count": null,
   "id": "12d1206e",
   "metadata": {},
   "outputs": [],
   "source": []
  },
  {
   "cell_type": "code",
   "execution_count": null,
   "id": "c2c276de",
   "metadata": {},
   "outputs": [],
   "source": []
  },
  {
   "cell_type": "code",
   "execution_count": null,
   "id": "398c4bb4",
   "metadata": {},
   "outputs": [],
   "source": []
  }
 ],
 "metadata": {
  "language_info": {
   "name": "python"
  }
 },
 "nbformat": 4,
 "nbformat_minor": 5
}
